{
 "cells": [
  {
   "cell_type": "markdown",
   "metadata": {},
   "source": [
    "# Recyclable and Low Fat Products\n",
    "\n",
    "Write a solution to find the ids of products that are both low fat and recyclable.\n",
    "\n",
    "Return the result table in any order.\n",
    "\n",
    "The result format is in the following example.\n",
    "\n",
    "**Example 1:**\n",
    "```\n",
    "Input: \n",
    "Products table:\n",
    "+-------------+----------+------------+\n",
    "| product_id  | low_fats | recyclable |\n",
    "+-------------+----------+------------+\n",
    "| 0           | Y        | N          |\n",
    "| 1           | Y        | Y          |\n",
    "| 2           | N        | Y          |\n",
    "| 3           | Y        | Y          |\n",
    "| 4           | N        | N          |\n",
    "+-------------+----------+------------+\n",
    "\n",
    "Output: \n",
    "+-------------+\n",
    "| product_id  |\n",
    "+-------------+\n",
    "| 1           |\n",
    "| 3           |\n",
    "+-------------+\n",
    "```\n",
    "Explanation: Only products 1 and 3 are both low fat and recyclable.\n",
    "\n",
    "Once you have implemented your solution, run the code block containing your `find_products` function. Be sure that your function [returns](https://www.geeksforgeeks.org/python-return-statement/) a dataframe, and doesn't simply print."
   ]
  },
  {
   "cell_type": "code",
   "execution_count": 4,
   "metadata": {},
   "outputs": [],
   "source": [
    "import pandas as pd\n",
    "\n",
    "\n",
    "def find_products(products):\n",
    "    if low_fats==Y and recyclable==Y:\n",
    "        return products"
   ]
  },
  {
   "cell_type": "markdown",
   "metadata": {},
   "source": [
    "## Test Block\n",
    "\n",
    "**NOTE: Before running the code block below, please be sure that the function you implemented above runs successfully (i.e. a green check-mark appears when running your code)**\n",
    "\n",
    "Run the following block of code to test your `find_products` function. If all cases evaluate to true, your code is functioning correctly!"
   ]
  },
  {
   "cell_type": "code",
   "execution_count": 5,
   "metadata": {},
   "outputs": [
    {
     "ename": "NameError",
     "evalue": "name 'low_fats' is not defined",
     "output_type": "error",
     "traceback": [
      "\u001b[1;31m---------------------------------------------------------------------------\u001b[0m",
      "\u001b[1;31mNameError\u001b[0m                                 Traceback (most recent call last)",
      "Cell \u001b[1;32mIn[5], line 5\u001b[0m\n\u001b[0;32m      1\u001b[0m \u001b[38;5;28;01mfrom\u001b[39;00m \u001b[38;5;21;01mtests\u001b[39;00m \u001b[38;5;28;01mimport\u001b[39;00m test_recyclable\n\u001b[0;32m      3\u001b[0m data \u001b[38;5;241m=\u001b[39m pd\u001b[38;5;241m.\u001b[39mread_csv(\u001b[38;5;124m\"\u001b[39m\u001b[38;5;124mdata/recyclable_data.csv\u001b[39m\u001b[38;5;124m\"\u001b[39m)\n\u001b[1;32m----> 5\u001b[0m output \u001b[38;5;241m=\u001b[39m find_products(data)\n\u001b[0;32m      6\u001b[0m result1 \u001b[38;5;241m=\u001b[39m test_recyclable\u001b[38;5;241m.\u001b[39mtest1(output)\n\u001b[0;32m      8\u001b[0m \u001b[38;5;28mprint\u001b[39m(\u001b[38;5;124m\"\u001b[39m\u001b[38;5;124mOutput\u001b[39m\u001b[38;5;130;01m\\n\u001b[39;00m\u001b[38;5;124m:\u001b[39m\u001b[38;5;124m\"\u001b[39m, output)\n",
      "Cell \u001b[1;32mIn[4], line 5\u001b[0m, in \u001b[0;36mfind_products\u001b[1;34m(products)\u001b[0m\n\u001b[0;32m      4\u001b[0m \u001b[38;5;28;01mdef\u001b[39;00m \u001b[38;5;21mfind_products\u001b[39m(products):\n\u001b[1;32m----> 5\u001b[0m     \u001b[38;5;28;01mif\u001b[39;00m low_fats\u001b[38;5;241m==\u001b[39mY \u001b[38;5;129;01mand\u001b[39;00m recyclable\u001b[38;5;241m==\u001b[39mY:\n\u001b[0;32m      6\u001b[0m         \u001b[38;5;28;01mreturn\u001b[39;00m products\n",
      "\u001b[1;31mNameError\u001b[0m: name 'low_fats' is not defined"
     ]
    }
   ],
   "source": [
    "from tests import test_recyclable\n",
    "\n",
    "data = pd.read_csv(\"data/recyclable_data.csv\")\n",
    "\n",
    "output = find_products(data)\n",
    "result1 = test_recyclable.test1(output)\n",
    "\n",
    "print(\"Output\\n:\", output)\n",
    "print(\"Test case 1:\", result1)"
   ]
  }
 ],
 "metadata": {
  "kernelspec": {
   "display_name": "base",
   "language": "python",
   "name": "python3"
  },
  "language_info": {
   "codemirror_mode": {
    "name": "ipython",
    "version": 3
   },
   "file_extension": ".py",
   "mimetype": "text/x-python",
   "name": "python",
   "nbconvert_exporter": "python",
   "pygments_lexer": "ipython3",
   "version": "3.11.5"
  }
 },
 "nbformat": 4,
 "nbformat_minor": 2
}
